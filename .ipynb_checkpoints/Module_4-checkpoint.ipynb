{
 "cells": [
  {
   "cell_type": "markdown",
   "metadata": {},
   "source": [
    "# Logistic Regression"
   ]
  },
  {
   "cell_type": "code",
   "execution_count": 1,
   "metadata": {},
   "outputs": [],
   "source": [
    "import pandas as pd\n",
    "import numpy as n\n",
    "import matplotlib.pyplot as plt"
   ]
  },
  {
   "cell_type": "code",
   "execution_count": 2,
   "metadata": {},
   "outputs": [],
   "source": [
    "import warnings\n",
    "warnings.filterwarnings('ignore')"
   ]
  },
  {
   "cell_type": "code",
   "execution_count": 3,
   "metadata": {},
   "outputs": [],
   "source": [
    "data=pd.read_csv('Data.csv')"
   ]
  },
  {
   "cell_type": "code",
   "execution_count": 4,
   "metadata": {},
   "outputs": [
    {
     "data": {
      "text/html": [
       "<div>\n",
       "<style scoped>\n",
       "    .dataframe tbody tr th:only-of-type {\n",
       "        vertical-align: middle;\n",
       "    }\n",
       "\n",
       "    .dataframe tbody tr th {\n",
       "        vertical-align: top;\n",
       "    }\n",
       "\n",
       "    .dataframe thead th {\n",
       "        text-align: right;\n",
       "    }\n",
       "</style>\n",
       "<table border=\"1\" class=\"dataframe\">\n",
       "  <thead>\n",
       "    <tr style=\"text-align: right;\">\n",
       "      <th></th>\n",
       "      <th>Unnamed: 0</th>\n",
       "      <th>address</th>\n",
       "      <th>year</th>\n",
       "      <th>day</th>\n",
       "      <th>length</th>\n",
       "      <th>weight</th>\n",
       "      <th>count</th>\n",
       "      <th>looped</th>\n",
       "      <th>neighbors</th>\n",
       "      <th>income</th>\n",
       "      <th>label</th>\n",
       "    </tr>\n",
       "  </thead>\n",
       "  <tbody>\n",
       "    <tr>\n",
       "      <th>0</th>\n",
       "      <td>0</td>\n",
       "      <td>112Ns49UobQn1cX1G1axs1cmGvjFBxVxvf</td>\n",
       "      <td>2016</td>\n",
       "      <td>146</td>\n",
       "      <td>144</td>\n",
       "      <td>0.877485</td>\n",
       "      <td>4817</td>\n",
       "      <td>0</td>\n",
       "      <td>1</td>\n",
       "      <td>104020000.0</td>\n",
       "      <td>montrealCryptXXX</td>\n",
       "    </tr>\n",
       "    <tr>\n",
       "      <th>1</th>\n",
       "      <td>1</td>\n",
       "      <td>112wED5uHhY1aiSaWAzgeMDaCKFcCvj9Pn</td>\n",
       "      <td>2016</td>\n",
       "      <td>158</td>\n",
       "      <td>56</td>\n",
       "      <td>0.000031</td>\n",
       "      <td>1</td>\n",
       "      <td>0</td>\n",
       "      <td>1</td>\n",
       "      <td>120000000.0</td>\n",
       "      <td>montrealCryptXXX</td>\n",
       "    </tr>\n",
       "    <tr>\n",
       "      <th>2</th>\n",
       "      <td>2</td>\n",
       "      <td>112wED5uHhY1aiSaWAzgeMDaCKFcCvj9Pn</td>\n",
       "      <td>2016</td>\n",
       "      <td>156</td>\n",
       "      <td>8</td>\n",
       "      <td>0.750000</td>\n",
       "      <td>2</td>\n",
       "      <td>0</td>\n",
       "      <td>4</td>\n",
       "      <td>240000000.0</td>\n",
       "      <td>montrealCryptXXX</td>\n",
       "    </tr>\n",
       "    <tr>\n",
       "      <th>3</th>\n",
       "      <td>3</td>\n",
       "      <td>113ESVqntvYprqQbsPN6tEmtE1bB44uokS</td>\n",
       "      <td>2016</td>\n",
       "      <td>155</td>\n",
       "      <td>6</td>\n",
       "      <td>0.500000</td>\n",
       "      <td>6</td>\n",
       "      <td>0</td>\n",
       "      <td>2</td>\n",
       "      <td>120000000.0</td>\n",
       "      <td>montrealCryptXXX</td>\n",
       "    </tr>\n",
       "    <tr>\n",
       "      <th>4</th>\n",
       "      <td>4</td>\n",
       "      <td>114gGmini5G9hEwEkWtKXoQqT1D6S5AJvU</td>\n",
       "      <td>2016</td>\n",
       "      <td>137</td>\n",
       "      <td>0</td>\n",
       "      <td>1.000000</td>\n",
       "      <td>1</td>\n",
       "      <td>0</td>\n",
       "      <td>2</td>\n",
       "      <td>119990000.0</td>\n",
       "      <td>montrealCryptXXX</td>\n",
       "    </tr>\n",
       "  </tbody>\n",
       "</table>\n",
       "</div>"
      ],
      "text/plain": [
       "   Unnamed: 0                             address  year  day  length  \\\n",
       "0           0  112Ns49UobQn1cX1G1axs1cmGvjFBxVxvf  2016  146     144   \n",
       "1           1  112wED5uHhY1aiSaWAzgeMDaCKFcCvj9Pn  2016  158      56   \n",
       "2           2  112wED5uHhY1aiSaWAzgeMDaCKFcCvj9Pn  2016  156       8   \n",
       "3           3  113ESVqntvYprqQbsPN6tEmtE1bB44uokS  2016  155       6   \n",
       "4           4  114gGmini5G9hEwEkWtKXoQqT1D6S5AJvU  2016  137       0   \n",
       "\n",
       "     weight  count  looped  neighbors       income             label  \n",
       "0  0.877485   4817       0          1  104020000.0  montrealCryptXXX  \n",
       "1  0.000031      1       0          1  120000000.0  montrealCryptXXX  \n",
       "2  0.750000      2       0          4  240000000.0  montrealCryptXXX  \n",
       "3  0.500000      6       0          2  120000000.0  montrealCryptXXX  \n",
       "4  1.000000      1       0          2  119990000.0  montrealCryptXXX  "
      ]
     },
     "execution_count": 4,
     "metadata": {},
     "output_type": "execute_result"
    }
   ],
   "source": [
    "data.head()"
   ]
  },
  {
   "cell_type": "code",
   "execution_count": 5,
   "metadata": {},
   "outputs": [],
   "source": [
    "del data['Unnamed: 0']\n",
    "del data['address']"
   ]
  },
  {
   "cell_type": "code",
   "execution_count": 6,
   "metadata": {},
   "outputs": [
    {
     "data": {
      "text/html": [
       "<div>\n",
       "<style scoped>\n",
       "    .dataframe tbody tr th:only-of-type {\n",
       "        vertical-align: middle;\n",
       "    }\n",
       "\n",
       "    .dataframe tbody tr th {\n",
       "        vertical-align: top;\n",
       "    }\n",
       "\n",
       "    .dataframe thead th {\n",
       "        text-align: right;\n",
       "    }\n",
       "</style>\n",
       "<table border=\"1\" class=\"dataframe\">\n",
       "  <thead>\n",
       "    <tr style=\"text-align: right;\">\n",
       "      <th></th>\n",
       "      <th>year</th>\n",
       "      <th>day</th>\n",
       "      <th>length</th>\n",
       "      <th>weight</th>\n",
       "      <th>count</th>\n",
       "      <th>looped</th>\n",
       "      <th>neighbors</th>\n",
       "      <th>income</th>\n",
       "      <th>label</th>\n",
       "    </tr>\n",
       "  </thead>\n",
       "  <tbody>\n",
       "    <tr>\n",
       "      <th>0</th>\n",
       "      <td>2016</td>\n",
       "      <td>146</td>\n",
       "      <td>144</td>\n",
       "      <td>0.877485</td>\n",
       "      <td>4817</td>\n",
       "      <td>0</td>\n",
       "      <td>1</td>\n",
       "      <td>104020000.0</td>\n",
       "      <td>montrealCryptXXX</td>\n",
       "    </tr>\n",
       "    <tr>\n",
       "      <th>1</th>\n",
       "      <td>2016</td>\n",
       "      <td>158</td>\n",
       "      <td>56</td>\n",
       "      <td>0.000031</td>\n",
       "      <td>1</td>\n",
       "      <td>0</td>\n",
       "      <td>1</td>\n",
       "      <td>120000000.0</td>\n",
       "      <td>montrealCryptXXX</td>\n",
       "    </tr>\n",
       "    <tr>\n",
       "      <th>2</th>\n",
       "      <td>2016</td>\n",
       "      <td>156</td>\n",
       "      <td>8</td>\n",
       "      <td>0.750000</td>\n",
       "      <td>2</td>\n",
       "      <td>0</td>\n",
       "      <td>4</td>\n",
       "      <td>240000000.0</td>\n",
       "      <td>montrealCryptXXX</td>\n",
       "    </tr>\n",
       "    <tr>\n",
       "      <th>3</th>\n",
       "      <td>2016</td>\n",
       "      <td>155</td>\n",
       "      <td>6</td>\n",
       "      <td>0.500000</td>\n",
       "      <td>6</td>\n",
       "      <td>0</td>\n",
       "      <td>2</td>\n",
       "      <td>120000000.0</td>\n",
       "      <td>montrealCryptXXX</td>\n",
       "    </tr>\n",
       "    <tr>\n",
       "      <th>4</th>\n",
       "      <td>2016</td>\n",
       "      <td>137</td>\n",
       "      <td>0</td>\n",
       "      <td>1.000000</td>\n",
       "      <td>1</td>\n",
       "      <td>0</td>\n",
       "      <td>2</td>\n",
       "      <td>119990000.0</td>\n",
       "      <td>montrealCryptXXX</td>\n",
       "    </tr>\n",
       "  </tbody>\n",
       "</table>\n",
       "</div>"
      ],
      "text/plain": [
       "   year  day  length    weight  count  looped  neighbors       income  \\\n",
       "0  2016  146     144  0.877485   4817       0          1  104020000.0   \n",
       "1  2016  158      56  0.000031      1       0          1  120000000.0   \n",
       "2  2016  156       8  0.750000      2       0          4  240000000.0   \n",
       "3  2016  155       6  0.500000      6       0          2  120000000.0   \n",
       "4  2016  137       0  1.000000      1       0          2  119990000.0   \n",
       "\n",
       "              label  \n",
       "0  montrealCryptXXX  \n",
       "1  montrealCryptXXX  \n",
       "2  montrealCryptXXX  \n",
       "3  montrealCryptXXX  \n",
       "4  montrealCryptXXX  "
      ]
     },
     "execution_count": 6,
     "metadata": {},
     "output_type": "execute_result"
    }
   ],
   "source": [
    "data.head()"
   ]
  },
  {
   "cell_type": "code",
   "execution_count": 7,
   "metadata": {},
   "outputs": [
    {
     "data": {
      "text/plain": [
       "array(['montrealCryptXXX', 'montrealCryptoLocker', 'paduaCryptoWall',\n",
       "       'princetonCerber', 'princetonLocky', 'white'], dtype=object)"
      ]
     },
     "execution_count": 7,
     "metadata": {},
     "output_type": "execute_result"
    }
   ],
   "source": [
    "data.label.unique()"
   ]
  },
  {
   "cell_type": "code",
   "execution_count": 8,
   "metadata": {},
   "outputs": [],
   "source": [
    "data['label']=data['label'].map({'montrealCryptXXX':'Crypto','montrealCryptoLocker':'CryptoLocker','paduaCryptoWall':'CryptoWall','princetonCerber':'Cerber','princetonLocky':'Locky','white':'White'})"
   ]
  },
  {
   "cell_type": "code",
   "execution_count": 9,
   "metadata": {},
   "outputs": [],
   "source": [
    "from sklearn.preprocessing import LabelEncoder\n",
    "le = LabelEncoder()\n",
    "var_mod = ['label']\n",
    "\n",
    "for i in var_mod:\n",
    "    data[i] = le.fit_transform(data[i].astype(str))"
   ]
  },
  {
   "cell_type": "code",
   "execution_count": 10,
   "metadata": {},
   "outputs": [
    {
     "data": {
      "text/html": [
       "<div>\n",
       "<style scoped>\n",
       "    .dataframe tbody tr th:only-of-type {\n",
       "        vertical-align: middle;\n",
       "    }\n",
       "\n",
       "    .dataframe tbody tr th {\n",
       "        vertical-align: top;\n",
       "    }\n",
       "\n",
       "    .dataframe thead th {\n",
       "        text-align: right;\n",
       "    }\n",
       "</style>\n",
       "<table border=\"1\" class=\"dataframe\">\n",
       "  <thead>\n",
       "    <tr style=\"text-align: right;\">\n",
       "      <th></th>\n",
       "      <th>year</th>\n",
       "      <th>day</th>\n",
       "      <th>length</th>\n",
       "      <th>weight</th>\n",
       "      <th>count</th>\n",
       "      <th>looped</th>\n",
       "      <th>neighbors</th>\n",
       "      <th>income</th>\n",
       "      <th>label</th>\n",
       "    </tr>\n",
       "  </thead>\n",
       "  <tbody>\n",
       "    <tr>\n",
       "      <th>0</th>\n",
       "      <td>2016</td>\n",
       "      <td>146</td>\n",
       "      <td>144</td>\n",
       "      <td>0.877485</td>\n",
       "      <td>4817</td>\n",
       "      <td>0</td>\n",
       "      <td>1</td>\n",
       "      <td>104020000.0</td>\n",
       "      <td>1</td>\n",
       "    </tr>\n",
       "    <tr>\n",
       "      <th>1</th>\n",
       "      <td>2016</td>\n",
       "      <td>158</td>\n",
       "      <td>56</td>\n",
       "      <td>0.000031</td>\n",
       "      <td>1</td>\n",
       "      <td>0</td>\n",
       "      <td>1</td>\n",
       "      <td>120000000.0</td>\n",
       "      <td>1</td>\n",
       "    </tr>\n",
       "    <tr>\n",
       "      <th>2</th>\n",
       "      <td>2016</td>\n",
       "      <td>156</td>\n",
       "      <td>8</td>\n",
       "      <td>0.750000</td>\n",
       "      <td>2</td>\n",
       "      <td>0</td>\n",
       "      <td>4</td>\n",
       "      <td>240000000.0</td>\n",
       "      <td>1</td>\n",
       "    </tr>\n",
       "    <tr>\n",
       "      <th>3</th>\n",
       "      <td>2016</td>\n",
       "      <td>155</td>\n",
       "      <td>6</td>\n",
       "      <td>0.500000</td>\n",
       "      <td>6</td>\n",
       "      <td>0</td>\n",
       "      <td>2</td>\n",
       "      <td>120000000.0</td>\n",
       "      <td>1</td>\n",
       "    </tr>\n",
       "    <tr>\n",
       "      <th>4</th>\n",
       "      <td>2016</td>\n",
       "      <td>137</td>\n",
       "      <td>0</td>\n",
       "      <td>1.000000</td>\n",
       "      <td>1</td>\n",
       "      <td>0</td>\n",
       "      <td>2</td>\n",
       "      <td>119990000.0</td>\n",
       "      <td>1</td>\n",
       "    </tr>\n",
       "  </tbody>\n",
       "</table>\n",
       "</div>"
      ],
      "text/plain": [
       "   year  day  length    weight  count  looped  neighbors       income  label\n",
       "0  2016  146     144  0.877485   4817       0          1  104020000.0      1\n",
       "1  2016  158      56  0.000031      1       0          1  120000000.0      1\n",
       "2  2016  156       8  0.750000      2       0          4  240000000.0      1\n",
       "3  2016  155       6  0.500000      6       0          2  120000000.0      1\n",
       "4  2016  137       0  1.000000      1       0          2  119990000.0      1"
      ]
     },
     "execution_count": 10,
     "metadata": {},
     "output_type": "execute_result"
    }
   ],
   "source": [
    "data.head()"
   ]
  },
  {
   "cell_type": "code",
   "execution_count": 11,
   "metadata": {},
   "outputs": [
    {
     "data": {
      "text/plain": [
       "array([1, 2, 3, 0, 4, 5])"
      ]
     },
     "execution_count": 11,
     "metadata": {},
     "output_type": "execute_result"
    }
   ],
   "source": [
    "data.label.unique()"
   ]
  },
  {
   "cell_type": "code",
   "execution_count": 12,
   "metadata": {},
   "outputs": [],
   "source": [
    "X = data.drop(labels='label',axis=1)\n",
    "y=data.drop(labels=X,axis=1)"
   ]
  },
  {
   "cell_type": "code",
   "execution_count": 13,
   "metadata": {},
   "outputs": [],
   "source": [
    "#We'll use a test size of 30%. We also stratify the split on the response variabletransactions.\n",
    "from sklearn.model_selection import train_test_split\n",
    "X_train, X_test, y_train, y_test = train_test_split(X, y, test_size=0.3)"
   ]
  },
  {
   "cell_type": "code",
   "execution_count": 14,
   "metadata": {},
   "outputs": [],
   "source": [
    "#According to the cross-validated MCC scores, the random forest is the best-performing model, so now let's evaluate its performance on the test set.\n",
    "from sklearn.metrics import confusion_matrix, classification_report, matthews_corrcoef, cohen_kappa_score, accuracy_score, average_precision_score, roc_auc_score"
   ]
  },
  {
   "cell_type": "markdown",
   "metadata": {},
   "source": [
    "# Logistic Regression "
   ]
  },
  {
   "cell_type": "code",
   "execution_count": 15,
   "metadata": {},
   "outputs": [
    {
     "name": "stdout",
     "output_type": "stream",
     "text": [
      "\n",
      "Classification report of Logistic Regression Results:\n",
      "\n",
      "              precision    recall  f1-score   support\n",
      "\n",
      "           0       0.00      0.00      0.00       707\n",
      "           1       0.00      0.00      0.00       731\n",
      "           2       0.00      0.00      0.00       726\n",
      "           3       0.00      0.00      0.00       759\n",
      "           4       0.00      0.00      0.00       731\n",
      "           5       0.16      1.00      0.28       701\n",
      "\n",
      "    accuracy                           0.16      4355\n",
      "   macro avg       0.03      0.17      0.05      4355\n",
      "weighted avg       0.03      0.16      0.04      4355\n",
      "\n",
      "Accuracy result of Logisticregression is: 16.096440872560276\n",
      "\n",
      "Confusion Matrix result of Logistic Regression is:\n",
      " [[  0   0   0   0   0 707]\n",
      " [  0   0   0   0   0 731]\n",
      " [  0   0   0   0   0 726]\n",
      " [  0   0   0   0   0 759]\n",
      " [  0   0   0   0   0 731]\n",
      " [  0   0   0   0   0 701]]\n",
      "\n",
      "Cross validation test results of accuracy:\n",
      "[0.16672408 0.16672408 0.16672408 0.16672408 0.16643694]\n",
      "\n",
      "Accuracy result of Logistic Regression is: 16.666665083982373\n"
     ]
    }
   ],
   "source": [
    "from sklearn.metrics import accuracy_score, confusion_matrix\n",
    "from sklearn.linear_model import LogisticRegression\n",
    "from sklearn.model_selection import cross_val_score\n",
    "\n",
    "logR= LogisticRegression()\n",
    "logR.fit(X_train,y_train)\n",
    "\n",
    "predictLR = logR.predict(X_test)\n",
    "\n",
    "print(\"\")\n",
    "print('Classification report of Logistic Regression Results:')\n",
    "print(\"\")\n",
    "print(classification_report(y_test,predictLR))\n",
    "x = (accuracy_score(y_test,predictLR)*100)\n",
    "\n",
    "print('Accuracy result of Logisticregression is:', x)\n",
    "\n",
    "print(\"\")\n",
    "\n",
    "cm2=confusion_matrix(y_test,predictLR)\n",
    "print('Confusion Matrix result of Logistic Regression is:\\n',cm2)\n",
    "print(\"\")\n",
    "\n",
    "accuracy = cross_val_score(logR, X, y, scoring='accuracy')\n",
    "print('Cross validation test results of accuracy:')\n",
    "print(accuracy)\n",
    "#get the mean of each fold \n",
    "print(\"\")\n",
    "print(\"Accuracy result of Logistic Regression is:\",accuracy.mean() * 100)\n",
    "LR=accuracy.mean() * 100"
   ]
  },
  {
   "cell_type": "code",
   "execution_count": 16,
   "metadata": {},
   "outputs": [
    {
     "data": {
      "image/png": "[encoded data removed]",
      "text/plain": [
       "<Figure size 360x360 with 1 Axes>"
      ]
     },
     "metadata": {
      "needs_background": "light"
     },
     "output_type": "display_data"
    }
   ],
   "source": [
    "def graph():\n",
    "    import matplotlib.pyplot as plt\n",
    "    data=[LR]\n",
    "    alg=\"Logistic Regression\"\n",
    "    plt.figure(figsize=(5,5))\n",
    "    b=plt.bar(alg,data,color=(\"b\"))\n",
    "    plt.title(\"Accuracy of Logistic Regression\",fontsize=15)\n",
    "    plt.legend(b,data,fontsize=9)\n",
    "graph()"
   ]
  },
  {
   "cell_type": "code",
   "execution_count": 17,
   "metadata": {},
   "outputs": [
    {
     "name": "stdout",
     "output_type": "stream",
     "text": [
      "True Positive : 0\n",
      "True Negative : 0\n",
      "False Positive : 0\n",
      "False Negative : 0\n",
      "\n",
      "True Positive Rate : nan\n",
      "True Negative Rate : nan\n",
      "False Positive Rate : nan\n",
      "False Negative Rate : nan\n",
      "\n",
      "Positive Predictive Value : nan\n",
      "Negative predictive value : nan\n"
     ]
    }
   ],
   "source": [
    "TN = cm2[1][0]\n",
    "FN = cm2[0][0]\n",
    "TP = cm2[1][1]\n",
    "FP = cm2[0][1]\n",
    "print(\"True Positive :\",TP)\n",
    "print(\"True Negative :\",TN)\n",
    "print(\"False Positive :\",FP)\n",
    "print(\"False Negative :\",FN)\n",
    "print(\"\")\n",
    "TPR = TP/(TP+FN)\n",
    "TNR = TN/(TN+FP)\n",
    "FPR = FP/(FP+TN)\n",
    "FNR = FN/(TP+FN)\n",
    "print(\"True Positive Rate :\",TPR)\n",
    "print(\"True Negative Rate :\",TNR)\n",
    "print(\"False Positive Rate :\",FPR)\n",
    "print(\"False Negative Rate :\",FNR)\n",
    "print(\"\")\n",
    "PPV = TP/(TP+FP)\n",
    "NPV = TN/(TN+FN)\n",
    "print(\"Positive Predictive Value :\",PPV)\n",
    "print(\"Negative predictive value :\",NPV)"
   ]
  },
  {
   "cell_type": "code",
   "execution_count": 18,
   "metadata": {},
   "outputs": [
    {
     "name": "stdout",
     "output_type": "stream",
     "text": [
      "Confusion matrix-LR:\n",
      "[[  0   0   0   0   0 707]\n",
      " [  0   0   0   0   0 731]\n",
      " [  0   0   0   0   0 726]\n",
      " [  0   0   0   0   0 759]\n",
      " [  0   0   0   0   0 731]\n",
      " [  0   0   0   0   0 701]]\n"
     ]
    },
    {
     "data": {
      "image/png": "[encoded data removed]",
      "text/plain": [
       "<Figure size 432x288 with 2 Axes>"
      ]
     },
     "metadata": {
      "needs_background": "light"
     },
     "output_type": "display_data"
    }
   ],
   "source": [
    "def plot_confusion_matrix(cm2, title='Confusion matrix-LR', cmap=plt.cm.Blues):\n",
    "    target_names=['']\n",
    "    plt.imshow(cm2, interpolation='nearest', cmap=cmap)\n",
    "    plt.title(title)\n",
    "    plt.colorbar()\n",
    "    tick_marks = n.arange(len(target_names))\n",
    "    plt.xticks(tick_marks, target_names, rotation=45)\n",
    "    plt.yticks(tick_marks, target_names)\n",
    "    plt.tight_layout()\n",
    "    plt.ylabel('True label')\n",
    "    plt.xlabel('Predicted label')\n",
    "\n",
    "cm2=confusion_matrix(y_test, predictLR)\n",
    "print('Confusion matrix-LR:')\n",
    "print(cm2)\n",
    "plot_confusion_matrix(cm2)"
   ]
  },
  {
   "cell_type": "code",
   "execution_count": null,
   "metadata": {},
   "outputs": [],
   "source": []
  }
 ],
 "metadata": {
  "kernelspec": {
   "display_name": "Python 3 (ipykernel)",
   "language": "python",
   "name": "python3"
  },
  "language_info": {
   "codemirror_mode": {
    "name": "ipython",
    "version": 3
   },
   "file_extension": ".py",
   "mimetype": "text/x-python",
   "name": "python",
   "nbconvert_exporter": "python",
   "pygments_lexer": "ipython3",
   "version": "3.8.12"
  }
 },
 "nbformat": 4,
 "nbformat_minor": 4
}
